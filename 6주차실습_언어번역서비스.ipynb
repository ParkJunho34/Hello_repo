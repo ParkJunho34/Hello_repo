{
  "nbformat": 4,
  "nbformat_minor": 0,
  "metadata": {
    "colab": {
      "provenance": [],
      "include_colab_link": true
    },
    "kernelspec": {
      "name": "python3",
      "display_name": "Python 3"
    },
    "language_info": {
      "name": "python"
    }
  },
  "cells": [
    {
      "cell_type": "markdown",
      "metadata": {
        "id": "view-in-github",
        "colab_type": "text"
      },
      "source": [
        "<a href=\"https://colab.research.google.com/github/ParkJunho34/Hello_repo/blob/main/6%EC%A3%BC%EC%B0%A8%EC%8B%A4%EC%8A%B5_%EC%96%B8%EC%96%B4%EB%B2%88%EC%97%AD%EC%84%9C%EB%B9%84%EC%8A%A4.ipynb\" target=\"_parent\"><img src=\"https://colab.research.google.com/assets/colab-badge.svg\" alt=\"Open In Colab\"/></a>"
      ]
    },
    {
      "cell_type": "markdown",
      "source": [
        "# 번역 API"
      ],
      "metadata": {
        "id": "tQ9YdTfhLlF2"
      }
    },
    {
      "cell_type": "markdown",
      "source": [
        "![image.png](data:image/png;base64,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)"
      ],
      "metadata": {
        "id": "lSKFE3XySWZe"
      }
    },
    {
      "cell_type": "markdown",
      "source": [
        "# 공개 소프트웨어 이용"
      ],
      "metadata": {
        "id": "prdhzBwSv0PR"
      }
    },
    {
      "cell_type": "markdown",
      "source": [
        "## https://github.com/Uncover-F/TAS  (서비스가 간혹 중단됩니다.)"
      ],
      "metadata": {
        "id": "-xPUdugCUeRg"
      }
    },
    {
      "cell_type": "code",
      "source": [
        "import requests\n",
        "\n",
        "# Define the API endpoint URL#요청대상\n",
        "api_url = \"https://655.mtis.workers.dev/translate\"\n",
        "\n",
        "# Define the parameters for the request\n",
        "params = {#요청 layout\n",
        "    'text': 'i am a boy',  # The text you want to translate\n",
        "    'source_lang': 'en',    # Optional: The source language (defaults to English)\n",
        "    'target_lang': 'ko'     # Optional: The target language (defaults to Korea)\n",
        "}\n",
        "\n",
        "# Send a GET request to the API\n",
        "response = requests.get(api_url, params=params)#요청 행위\n",
        "\n",
        "# Check if the request was successful\n",
        "if response.status_code == 200: # 응답 결과(해석)\n",
        "    # Parse and print the response JSON\n",
        "    data = response.json()\n",
        "    print(\"Input:\", data['inputs'])\n",
        "    print(\"Response:\", data['response'])\n",
        "else:\n",
        "    print(\"Error:\", response.text)#"
      ],
      "metadata": {
        "colab": {
          "base_uri": "https://localhost:8080/"
        },
        "id": "lPU_ErEIv3yN",
        "outputId": "fce8b54c-5ff8-45b5-f78f-ea233f41da5f"
      },
      "execution_count": 11,
      "outputs": [
        {
          "output_type": "stream",
          "name": "stdout",
          "text": [
            "Input: {'text': 'i am a boy', 'source_lang': 'en', 'target_lang': 'ko'}\n",
            "Response: {'translated_text': '나는 소년', 'usage': {'prompt_tokens': 6, 'completion_tokens': 6, 'total_tokens': 12}}\n"
          ]
        }
      ]
    },
    {
      "cell_type": "code",
      "source": [
        "import json\n",
        "\n",
        "k = json.loads(response.text)\n",
        "\n",
        "ans = k['response']['translated_text']\n",
        "ans"
      ],
      "metadata": {
        "id": "N6UigxTvzTEI",
        "outputId": "125bb1c1-b025-4b48-c52a-48842bf926fa",
        "colab": {
          "base_uri": "https://localhost:8080/",
          "height": 35
        }
      },
      "execution_count": 22,
      "outputs": [
        {
          "output_type": "execute_result",
          "data": {
            "text/plain": [
              "'나는 소년'"
            ],
            "application/vnd.google.colaboratory.intrinsic+json": {
              "type": "string"
            }
          },
          "metadata": {},
          "execution_count": 22
        }
      ]
    },
    {
      "cell_type": "markdown",
      "source": [
        "## https://rapidapi.com/"
      ],
      "metadata": {
        "id": "QaOabvOjUx8v"
      }
    },
    {
      "cell_type": "code",
      "source": [
        "import requests\n",
        "\n",
        "url = \"https://swift-translate.p.rapidapi.com/translate\"#요청서버정보\n",
        "\n",
        "payload = {#요청정보구성\n",
        "\t\"text\": \"i am a boy\",\n",
        "\t\"sourceLang\": \"en\",\n",
        "\t\"targetLang\": \"ko\"\n",
        "}\n",
        "\n",
        "headers = {# 키 정보등 요청자 정보\n",
        "\t\"content-type\": \"application/json\",\n",
        "\t\"X-RapidAPI-Key\": \"8149ca0ae9mshff02c31f49a9081p1a4be7jsn61a2b0de094c\",\n",
        "\t\"X-RapidAPI-Host\": \"swift-translate.p.rapidapi.com\"\n",
        "}\n",
        "\n",
        "response = requests.post(url, json=payload, headers=headers)#요청행위\n",
        "\n",
        "print(response.json())#응답"
      ],
      "metadata": {
        "id": "MfloUwoKUy-u",
        "outputId": "b54a7d5e-cf08-482c-904b-14cc3b6d3819",
        "colab": {
          "base_uri": "https://localhost:8080/"
        }
      },
      "execution_count": 23,
      "outputs": [
        {
          "output_type": "stream",
          "name": "stdout",
          "text": [
            "{'message': \"API doesn't exists\"}\n"
          ]
        }
      ]
    },
    {
      "cell_type": "markdown",
      "source": [
        "# API 응답결과 데이터 접근"
      ],
      "metadata": {
        "id": "aGhXBzTfh3ZL"
      }
    },
    {
      "cell_type": "markdown",
      "source": [
        "- json 데이터에 대한 이해와 python의 dict 자료형에 대한 이해"
      ],
      "metadata": {
        "id": "pM-zJa2_h9tA"
      }
    }
  ]
}